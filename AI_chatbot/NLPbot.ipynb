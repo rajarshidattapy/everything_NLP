{
 "cells": [
  {
   "cell_type": "markdown",
   "id": "ed25e96f",
   "metadata": {},
   "source": [
    "# AI chatbot using NLP\n",
    "\n",
    "1) NLP combines computational linguistics, which involves rule-based modeling of human language, with intelligent algorithms like statistical, machine, and deep learning algorithms.\n",
    "\n",
    "2) Conversational AI chatbots that can understand and respond to people, using speech recognition tools and pre-trained models.\n",
    "\n",
    "Features:\n",
    "1) Speech Recognition\n",
    "2) word sense disambiguation: one word multiple meaning based on context.\n",
    "3) Named Entity Recognition: \"Dev\" -> name of a person, \"America\" -> name of a country\n",
    "4) Sentiment Analysis: Emotions -> sarcasm, fear, joy, etc.\n",
    "\n"
   ]
  },
  {
   "cell_type": "code",
   "execution_count": 10,
   "id": "9652d154",
   "metadata": {},
   "outputs": [
    {
     "name": "stdout",
     "output_type": "stream",
     "text": [
      "Collecting pyaudio\n",
      "  Using cached PyAudio-0.2.14-cp312-cp312-win_amd64.whl.metadata (2.7 kB)\n",
      "Using cached PyAudio-0.2.14-cp312-cp312-win_amd64.whl (164 kB)\n",
      "Installing collected packages: pyaudio\n",
      "Successfully installed pyaudio-0.2.14\n"
     ]
    }
   ],
   "source": [
    "!pip install pyaudio"
   ]
  },
  {
   "cell_type": "code",
   "execution_count": 11,
   "id": "9b98d79d",
   "metadata": {},
   "outputs": [],
   "source": [
    "import numpy as np\n",
    "import speech_recognition as sr\n"
   ]
  },
  {
   "cell_type": "code",
   "execution_count": null,
   "id": "c8e495b7",
   "metadata": {},
   "outputs": [],
   "source": [
    "class ChatBot():\n",
    "    def __init__(self, name):\n",
    "        print(\"----- starting up\", name, \"-----\")\n",
    "        self.name = name\n",
    "        \n",
    "    def speech_to_text(self):\n",
    "        recognizer = sr.Recognizer()\n",
    "        with sr.Microphone() as mic:\n",
    "             print(\"listening...\")\n",
    "             audio = recognizer.listen(mic)\n",
    "        try:\n",
    "             self.text = recognizer.recognize_google(audio)\n",
    "             print(\"me --> \", self.text)\n",
    "        except:\n",
    "             print(\"me -->  ERROR\")\n",
    "\n",
    "# Execute the AI\n",
    "if __name__ == \"__main__\":\n",
    "    ai = ChatBot(name=\"Dev\")\n",
    "    while True:\n",
    "        ai.speech_to_text() "
   ]
  },
  {
   "cell_type": "code",
   "execution_count": 14,
   "id": "ff1a8d41",
   "metadata": {},
   "outputs": [],
   "source": [
    "def wake_up(self, text):\n",
    "    return True if self.name in text.lower() else False"
   ]
  },
  {
   "cell_type": "code",
   "execution_count": 15,
   "id": "6b275db2",
   "metadata": {},
   "outputs": [],
   "source": [
    "from gtts import gTTS\n",
    "import os\n",
    "@staticmethod\n",
    "def text_to_speech(text):\n",
    "    print(\"AI --> \", text)\n",
    "    speaker = gTTS(text=text, lang=\"en\", slow=False)\n",
    "    speaker.save(\"res.mp3\")\n",
    "    os.system(\"start res.mp3\")  #if you have a macbook->afplay or for windows use->start\n",
    "    os.remove(\"res.mp3\")"
   ]
  },
  {
   "cell_type": "code",
   "execution_count": 17,
   "id": "1c90f9f8",
   "metadata": {},
   "outputs": [
    {
     "name": "stdout",
     "output_type": "stream",
     "text": [
      "----- starting up Dev -----\n",
      "listening...\n",
      "me -->  wake up\n"
     ]
    },
    {
     "ename": "AttributeError",
     "evalue": "'ChatBot' object has no attribute 'wake_up'",
     "output_type": "error",
     "traceback": [
      "\u001b[31m---------------------------------------------------------------------------\u001b[39m",
      "\u001b[31mAttributeError\u001b[39m                            Traceback (most recent call last)",
      "\u001b[36mCell\u001b[39m\u001b[36m \u001b[39m\u001b[32mIn[17]\u001b[39m\u001b[32m, line 14\u001b[39m\n\u001b[32m     12\u001b[39m ai.speech_to_text()\n\u001b[32m     13\u001b[39m \u001b[38;5;66;03m## wake up\u001b[39;00m\n\u001b[32m---> \u001b[39m\u001b[32m14\u001b[39m \u001b[38;5;28;01mif\u001b[39;00m \u001b[43mai\u001b[49m\u001b[43m.\u001b[49m\u001b[43mwake_up\u001b[49m(ai.text) \u001b[38;5;129;01mis\u001b[39;00m \u001b[38;5;28;01mTrue\u001b[39;00m:\n\u001b[32m     15\u001b[39m     res = \u001b[33m\"\u001b[39m\u001b[33mHello I am Dev the AI, what can I do for you?\u001b[39m\u001b[33m\"\u001b[39m\n\u001b[32m     16\u001b[39m     ai.text_to_speech(res) \n",
      "\u001b[31mAttributeError\u001b[39m: 'ChatBot' object has no attribute 'wake_up'"
     ]
    }
   ],
   "source": [
    "def text_to_speech(self, text):\n",
    "        print(\"AI --> \", text)\n",
    "        speaker = gTTS(text=text, lang=\"en\", slow=False)\n",
    "        speaker.save(\"res.mp3\")\n",
    "        os.system(\"start res.mp3\")  #if you have a macbook->afplay or for windows use->start\n",
    "        os.remove(\"res.mp3\")\n",
    "\n",
    "# Execute the AI\n",
    "if __name__ == \"__main__\":\n",
    "    ai = ChatBot(name=\"Dev\")\n",
    "    while True:\n",
    "        ai.speech_to_text()\n",
    "        ## wake up\n",
    "        if ai.wake_up(ai.text) is True:\n",
    "            res = \"Hello I am Dev the AI, what can I do for you?\"\n",
    "            ai.text_to_speech(res) "
   ]
  }
 ],
 "metadata": {
  "kernelspec": {
   "display_name": "venv",
   "language": "python",
   "name": "python3"
  },
  "language_info": {
   "codemirror_mode": {
    "name": "ipython",
    "version": 3
   },
   "file_extension": ".py",
   "mimetype": "text/x-python",
   "name": "python",
   "nbconvert_exporter": "python",
   "pygments_lexer": "ipython3",
   "version": "3.12.7"
  }
 },
 "nbformat": 4,
 "nbformat_minor": 5
}
