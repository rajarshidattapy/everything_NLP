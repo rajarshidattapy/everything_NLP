{
 "cells": [
  {
   "cell_type": "markdown",
   "id": "952c80a3",
   "metadata": {},
   "source": [
    "## Advanced Features\n",
    "\n",
    "### 1. Token Features\n",
    "- **cwc_min**: Ratio of the number of common words to the length of the smaller question  \n",
    "- **cwc_max**: Ratio of the number of common words to the length of the larger question  \n",
    "- **csc_min**: Ratio of the number of common stop words to the smaller stop word count among the two questions  \n",
    "- **csc_max**: Ratio of the number of common stop words to the larger stop word count among the two questions  \n",
    "- **ctc_min**: Ratio of the number of common tokens to the smaller token count among the two questions  \n",
    "- **ctc_max**: Ratio of the number of common tokens to the larger token count among the two questions  \n",
    "- **last_word_eq**: `1` if the last word in the two questions is the same, `0` otherwise  \n",
    "- **first_word_eq**: `1` if the first word in the two questions is the same, `0` otherwise  \n",
    "\n",
    "### 2. Length Based Features\n",
    "- **mean_len**: Mean of the length of the two questions (number of words)  \n",
    "- **abs_len_diff**: Absolute difference between the lengths of the two questions (number of words)  \n",
    "- **longest_substr_ratio**: Ratio of the length of the longest common substring to the length of the smaller question  \n",
    "\n",
    "### 3. Fuzzy Features\n",
    "- **fuzz_ratio**: `fuzz_ratio` score from `fuzzywuzzy`  \n",
    "- **fuzz_partial_ratio**: `fuzz_partial_ratio` from `fuzzywuzzy`  \n",
    "- **token_sort_ratio**: `token_sort_ratio` from `fuzzywuzzy`  \n",
    "- **token_set_ratio**: `token_set_ratio` from `fuzzywuzzy`  \n"
   ]
  },
  {
   "cell_type": "code",
   "execution_count": null,
   "id": "d2584914",
   "metadata": {
    "vscode": {
     "languageId": "plaintext"
    }
   },
   "outputs": [],
   "source": [
    " "
   ]
  }
 ],
 "metadata": {
  "language_info": {
   "name": "python"
  }
 },
 "nbformat": 4,
 "nbformat_minor": 5
}
