{
 "cells": [
  {
   "cell_type": "code",
   "execution_count": 1,
   "id": "5b741580",
   "metadata": {
    "_cell_guid": "b1076dfc-b9ad-4769-8c92-a6c4dae69d19",
    "_uuid": "8f2839f25d086af736a60e9eeb907d3b93b6e0e5",
    "execution": {
     "iopub.execute_input": "2024-09-04T13:35:29.796541Z",
     "iopub.status.busy": "2024-09-04T13:35:29.796227Z",
     "iopub.status.idle": "2024-09-04T13:35:32.323917Z",
     "shell.execute_reply": "2024-09-04T13:35:32.323072Z"
    },
    "papermill": {
     "duration": 2.541047,
     "end_time": "2024-09-04T13:35:32.326161",
     "exception": false,
     "start_time": "2024-09-04T13:35:29.785114",
     "status": "completed"
    },
    "tags": []
   },
   "outputs": [],
   "source": [
    "import numpy as np \n",
    "import pandas as pd\n",
    "import seaborn as sns\n",
    "import plotly.express as px\n",
    "import matplotlib.pyplot as plt\n",
    "%matplotlib inline \n",
    "\n",
    "import warnings\n",
    "warnings.filterwarnings(\"ignore\")"
   ]
  },
  {
   "cell_type": "code",
   "execution_count": 2,
   "id": "7448598c",
   "metadata": {
    "execution": {
     "iopub.execute_input": "2024-09-04T13:35:32.346902Z",
     "iopub.status.busy": "2024-09-04T13:35:32.346234Z",
     "iopub.status.idle": "2024-09-04T13:35:32.676284Z",
     "shell.execute_reply": "2024-09-04T13:35:32.675508Z"
    },
    "papermill": {
     "duration": 0.342685,
     "end_time": "2024-09-04T13:35:32.678623",
     "exception": false,
     "start_time": "2024-09-04T13:35:32.335938",
     "status": "completed"
    },
    "tags": []
   },
   "outputs": [],
   "source": [
    "train = pd.read_csv('/kaggle/input/sentiment-analysis-dataset/training.csv',header=None)\n",
    "validation = pd.read_csv('/kaggle/input/sentiment-analysis-dataset/validation.csv',header=None)\n",
    "\n",
    "train.columns=['Tweet ID','Entity','Sentiment','Tweet Content']\n",
    "validation.columns=['Tweet ID','Entity','Sentiment','Tweet Content']\n",
    "\n",
    "#print(\"Training DataSet: \\n\")\n",
    "train = train.sample(10000)\n",
    "#display(train.head())\n",
    "#print(\"Validation DataSet: \\n\")\n",
    "#validation = validation.sample(1000)\n",
    "#display(validation.head())"
   ]
  },
  {
   "cell_type": "code",
   "execution_count": 3,
   "id": "66b6ba51",
   "metadata": {
    "execution": {
     "iopub.execute_input": "2024-09-04T13:35:32.699628Z",
     "iopub.status.busy": "2024-09-04T13:35:32.698911Z",
     "iopub.status.idle": "2024-09-04T13:35:32.719648Z",
     "shell.execute_reply": "2024-09-04T13:35:32.718808Z"
    },
    "papermill": {
     "duration": 0.033153,
     "end_time": "2024-09-04T13:35:32.721518",
     "exception": false,
     "start_time": "2024-09-04T13:35:32.688365",
     "status": "completed"
    },
    "tags": []
   },
   "outputs": [
    {
     "data": {
      "text/html": [
       "<div>\n",
       "<style scoped>\n",
       "    .dataframe tbody tr th:only-of-type {\n",
       "        vertical-align: middle;\n",
       "    }\n",
       "\n",
       "    .dataframe tbody tr th {\n",
       "        vertical-align: top;\n",
       "    }\n",
       "\n",
       "    .dataframe thead th {\n",
       "        text-align: right;\n",
       "    }\n",
       "</style>\n",
       "<table border=\"1\" class=\"dataframe\">\n",
       "  <thead>\n",
       "    <tr style=\"text-align: right;\">\n",
       "      <th></th>\n",
       "      <th>Comment</th>\n",
       "      <th>Emotion</th>\n",
       "    </tr>\n",
       "  </thead>\n",
       "  <tbody>\n",
       "    <tr>\n",
       "      <th>33316</th>\n",
       "      <td>I Come stop by sometime and say hi for my mont...</td>\n",
       "      <td>Irrelevant</td>\n",
       "    </tr>\n",
       "    <tr>\n",
       "      <th>18817</th>\n",
       "      <td>Remember when he shoved a remote in the ass, h...</td>\n",
       "      <td>Irrelevant</td>\n",
       "    </tr>\n",
       "    <tr>\n",
       "      <th>59473</th>\n",
       "      <td>Can't wait to see @ ellenlikesbikes!!!!.... ah...</td>\n",
       "      <td>Irrelevant</td>\n",
       "    </tr>\n",
       "    <tr>\n",
       "      <th>1666</th>\n",
       "      <td>@Borderlands Loving, Love, Love, More and More...</td>\n",
       "      <td>Positive</td>\n",
       "    </tr>\n",
       "    <tr>\n",
       "      <th>1563</th>\n",
       "      <td>Crying.  the fact overwatch is nominated means...</td>\n",
       "      <td>Irrelevant</td>\n",
       "    </tr>\n",
       "  </tbody>\n",
       "</table>\n",
       "</div>"
      ],
      "text/plain": [
       "                                                 Comment     Emotion\n",
       "33316  I Come stop by sometime and say hi for my mont...  Irrelevant\n",
       "18817  Remember when he shoved a remote in the ass, h...  Irrelevant\n",
       "59473  Can't wait to see @ ellenlikesbikes!!!!.... ah...  Irrelevant\n",
       "1666   @Borderlands Loving, Love, Love, More and More...    Positive\n",
       "1563   Crying.  the fact overwatch is nominated means...  Irrelevant"
      ]
     },
     "execution_count": 3,
     "metadata": {},
     "output_type": "execute_result"
    }
   ],
   "source": [
    "df = train[['Tweet Content','Sentiment']]\n",
    "df = df.rename(columns= {'Tweet Content' : 'Comment', 'Sentiment' : 'Emotion'})\n",
    "df.head()"
   ]
  },
  {
   "cell_type": "code",
   "execution_count": 4,
   "id": "24143384",
   "metadata": {
    "execution": {
     "iopub.execute_input": "2024-09-04T13:35:32.741841Z",
     "iopub.status.busy": "2024-09-04T13:35:32.741567Z",
     "iopub.status.idle": "2024-09-04T13:35:32.755689Z",
     "shell.execute_reply": "2024-09-04T13:35:32.754811Z"
    },
    "papermill": {
     "duration": 0.026334,
     "end_time": "2024-09-04T13:35:32.757503",
     "exception": false,
     "start_time": "2024-09-04T13:35:32.731169",
     "status": "completed"
    },
    "tags": []
   },
   "outputs": [
    {
     "data": {
      "text/html": [
       "<div>\n",
       "<style scoped>\n",
       "    .dataframe tbody tr th:only-of-type {\n",
       "        vertical-align: middle;\n",
       "    }\n",
       "\n",
       "    .dataframe tbody tr th {\n",
       "        vertical-align: top;\n",
       "    }\n",
       "\n",
       "    .dataframe thead th {\n",
       "        text-align: right;\n",
       "    }\n",
       "</style>\n",
       "<table border=\"1\" class=\"dataframe\">\n",
       "  <thead>\n",
       "    <tr style=\"text-align: right;\">\n",
       "      <th></th>\n",
       "      <th>Comment</th>\n",
       "      <th>Emotion</th>\n",
       "    </tr>\n",
       "  </thead>\n",
       "  <tbody>\n",
       "    <tr>\n",
       "      <th>0</th>\n",
       "      <td>I Come stop by sometime and say hi for my mont...</td>\n",
       "      <td>Irrelevant</td>\n",
       "    </tr>\n",
       "    <tr>\n",
       "      <th>1</th>\n",
       "      <td>Remember when he shoved a remote in the ass, h...</td>\n",
       "      <td>Irrelevant</td>\n",
       "    </tr>\n",
       "    <tr>\n",
       "      <th>2</th>\n",
       "      <td>Can't wait to see @ ellenlikesbikes!!!!.... ah...</td>\n",
       "      <td>Irrelevant</td>\n",
       "    </tr>\n",
       "    <tr>\n",
       "      <th>3</th>\n",
       "      <td>@Borderlands Loving, Love, Love, More and More...</td>\n",
       "      <td>Positive</td>\n",
       "    </tr>\n",
       "    <tr>\n",
       "      <th>4</th>\n",
       "      <td>Crying.  the fact overwatch is nominated means...</td>\n",
       "      <td>Irrelevant</td>\n",
       "    </tr>\n",
       "  </tbody>\n",
       "</table>\n",
       "</div>"
      ],
      "text/plain": [
       "                                             Comment     Emotion\n",
       "0  I Come stop by sometime and say hi for my mont...  Irrelevant\n",
       "1  Remember when he shoved a remote in the ass, h...  Irrelevant\n",
       "2  Can't wait to see @ ellenlikesbikes!!!!.... ah...  Irrelevant\n",
       "3  @Borderlands Loving, Love, Love, More and More...    Positive\n",
       "4  Crying.  the fact overwatch is nominated means...  Irrelevant"
      ]
     },
     "execution_count": 4,
     "metadata": {},
     "output_type": "execute_result"
    }
   ],
   "source": [
    "df = df.dropna(subset=['Comment'])\n",
    "df = df.reset_index()\n",
    "df = df.drop('index',axis=1)\n",
    "df.head()"
   ]
  },
  {
   "cell_type": "code",
   "execution_count": 5,
   "id": "21865d84",
   "metadata": {
    "execution": {
     "iopub.execute_input": "2024-09-04T13:35:32.777935Z",
     "iopub.status.busy": "2024-09-04T13:35:32.777663Z",
     "iopub.status.idle": "2024-09-04T13:35:32.791365Z",
     "shell.execute_reply": "2024-09-04T13:35:32.790565Z"
    },
    "papermill": {
     "duration": 0.026232,
     "end_time": "2024-09-04T13:35:32.793426",
     "exception": false,
     "start_time": "2024-09-04T13:35:32.767194",
     "status": "completed"
    },
    "tags": []
   },
   "outputs": [
    {
     "data": {
      "text/plain": [
       "Emotion\n",
       "Negative      3099\n",
       "Positive      2716\n",
       "Neutral       2352\n",
       "Irrelevant    1752\n",
       "Name: count, dtype: int64"
      ]
     },
     "execution_count": 5,
     "metadata": {},
     "output_type": "execute_result"
    }
   ],
   "source": [
    "df['Emotion'].value_counts()"
   ]
  },
  {
   "cell_type": "code",
   "execution_count": 6,
   "id": "5528cfd9",
   "metadata": {
    "execution": {
     "iopub.execute_input": "2024-09-04T13:35:32.815201Z",
     "iopub.status.busy": "2024-09-04T13:35:32.814743Z",
     "iopub.status.idle": "2024-09-04T13:35:33.026135Z",
     "shell.execute_reply": "2024-09-04T13:35:33.024649Z"
    },
    "papermill": {
     "duration": 0.226576,
     "end_time": "2024-09-04T13:35:33.030635",
     "exception": false,
     "start_time": "2024-09-04T13:35:32.804059",
     "status": "completed"
    },
    "tags": []
   },
   "outputs": [
    {
     "data": {
      "image/png": "[encoded data removed]",
      "text/plain": [
       "<Figure size 700x700 with 1 Axes>"
      ]
     },
     "metadata": {},
     "output_type": "display_data"
    }
   ],
   "source": [
    "percentages = (df['Emotion'].value_counts() / df['Emotion'].count()) * 100\n",
    "\n",
    "# Configure plot\n",
    "plt.figure(figsize=(7, 7))\n",
    "plt.pie(percentages, labels=df['Emotion'].unique(), colors=['#98FB98', '#ADD8E6', 'LightGrey', '#DAA520'], autopct='%1.1f%%', textprops={'fontsize': 16})  # Adjust font size as needed\n",
    "plt.title('The distribution of labels', color = '#8B0000', fontsize = 16, fontweight = 'bold')\n",
    "plt.show()"
   ]
  },
  {
   "cell_type": "code",
   "execution_count": 7,
   "id": "21d49ecb",
   "metadata": {
    "execution": {
     "iopub.execute_input": "2024-09-04T13:35:33.068994Z",
     "iopub.status.busy": "2024-09-04T13:35:33.068214Z",
     "iopub.status.idle": "2024-09-04T13:35:33.075083Z",
     "shell.execute_reply": "2024-09-04T13:35:33.074073Z"
    },
    "papermill": {
     "duration": 0.023755,
     "end_time": "2024-09-04T13:35:33.076896",
     "exception": false,
     "start_time": "2024-09-04T13:35:33.053141",
     "status": "completed"
    },
    "tags": []
   },
   "outputs": [
    {
     "name": "stdout",
     "output_type": "stream",
     "text": [
      "\u001b[1;33mThe comment is: I Come stop by sometime and say hi for my monthly 1st edition LIVE stream tonight at 10pm... pst! Late Nights with Nicci _ Luv. I will be on teaming up with @Legacy_Mirror for some famous Fortnite Dance Duos. Hope to see as you are all there!\u001b[0m\n",
      "\u001b[1;33mIt's Label is: Irrelevant\u001b[0m\n",
      "\n",
      "\u001b[1;34mThe comment is: Apparently AMD is offering free training with a voucher for another cert test afterwards. Currently based on AWS but seems like a great opportunity to get into azure\u001b[0m\n",
      "\u001b[1;34mIt's Label is: Positive\u001b[0m\n",
      "\n",
      "\u001b[1;33mThe comment is: New two-year season! Well I know I'll have a good cold @ GFuelEnergy can nourish me.\u001b[0m\n",
      "\u001b[1;33mIt's Label is: Positive\u001b[0m\n",
      "\n",
      "\u001b[1;32mThe comment is: Happy Birthday to Brave! 11th 12 / 6 / 2020. 12 / 6 / 2009-12 / 6 / 2020.\u001b[0m\n",
      "\u001b[1;32mIt's Label is: Neutral\u001b[0m\n",
      "\n",
      "\u001b[1;35mThe comment is: 5 Just tried @GhostRecon_UK for the first time out in months and it'z s still a bug riddled mess. Seriously guy just abandon playing it and never move on. It'l s dead even now.\u001b[0m\n",
      "\u001b[1;35mIt's Label is: Negative\u001b[0m\n",
      "\n",
      "\u001b[1;33mThe comment is: If it were up to me, Overwatch matches would run on a point or xp score. Top 3 on winners team get 100% SR amt increase, bottom 3 on winners get 75%, top 3 on losers get 25-50% based on performance. Bottom 3 on losers take the SR loss.\u001b[0m\n",
      "\u001b[1;33mIt's Label is: Neutral\u001b[0m\n",
      "\n"
     ]
    }
   ],
   "source": [
    "import random\n",
    "\n",
    "# ANSI color codes\n",
    "color_codes = {\n",
    "    \"blue\": 34,\n",
    "    \"green\": 32,\n",
    "    \"red\": 31,\n",
    "    \"purple\": 35,\n",
    "    \"orange\": 33,  \n",
    "    \"yellow\": 33,\n",
    "    \"pink\": 35,   \n",
    "    \"brown\": 33,  \n",
    "    \"gray\": 37\n",
    "}\n",
    "\n",
    "for i in range(0, len(df), 7):\n",
    "    color = random.choice(list(color_codes.values()))\n",
    "    print(f\"\\033[1;{color}mThe comment is: {df['Comment'][i]}\\033[0m\\n\\033[1;{color}mIt's Label is: {df['Emotion'][i]}\\033[0m\\n\")\n",
    "    if i > 30:\n",
    "        break"
   ]
  },
  {
   "cell_type": "markdown",
   "id": "e6b19a0d",
   "metadata": {
    "papermill": {
     "duration": 0.010336,
     "end_time": "2024-09-04T13:35:33.097854",
     "exception": false,
     "start_time": "2024-09-04T13:35:33.087518",
     "status": "completed"
    },
    "tags": []
   },
   "source": [
    "# Preprocessing"
   ]
  },
  {
   "cell_type": "code",
   "execution_count": 8,
   "id": "96d7d32e",
   "metadata": {
    "execution": {
     "iopub.execute_input": "2024-09-04T13:35:33.119884Z",
     "iopub.status.busy": "2024-09-04T13:35:33.119625Z",
     "iopub.status.idle": "2024-09-04T13:35:40.480580Z",
     "shell.execute_reply": "2024-09-04T13:35:40.479590Z"
    },
    "papermill": {
     "duration": 7.374692,
     "end_time": "2024-09-04T13:35:40.483128",
     "exception": false,
     "start_time": "2024-09-04T13:35:33.108436",
     "status": "completed"
    },
    "tags": []
   },
   "outputs": [],
   "source": [
    "import spacy\n",
    "nlp = spacy.load(\"en_core_web_sm\")"
   ]
  },
  {
   "cell_type": "code",
   "execution_count": 9,
   "id": "7eb223a9",
   "metadata": {
    "execution": {
     "iopub.execute_input": "2024-09-04T13:35:40.506754Z",
     "iopub.status.busy": "2024-09-04T13:35:40.506217Z",
     "iopub.status.idle": "2024-09-04T13:35:40.512404Z",
     "shell.execute_reply": "2024-09-04T13:35:40.511574Z"
    },
    "papermill": {
     "duration": 0.019573,
     "end_time": "2024-09-04T13:35:40.514444",
     "exception": false,
     "start_time": "2024-09-04T13:35:40.494871",
     "status": "completed"
    },
    "tags": []
   },
   "outputs": [
    {
     "data": {
      "text/plain": [
       "\"little ol screenshot from gaben's account of me redd.it/hu2ks9\""
      ]
     },
     "execution_count": 9,
     "metadata": {},
     "output_type": "execute_result"
    }
   ],
   "source": [
    "doc=df['Comment'][1000]\n",
    "doc"
   ]
  },
  {
   "cell_type": "markdown",
   "id": "2a31728a",
   "metadata": {
    "papermill": {
     "duration": 0.01049,
     "end_time": "2024-09-04T13:35:40.535661",
     "exception": false,
     "start_time": "2024-09-04T13:35:40.525171",
     "status": "completed"
    },
    "tags": []
   },
   "source": [
    "## Tokeniazation"
   ]
  },
  {
   "cell_type": "code",
   "execution_count": 10,
   "id": "7237b683",
   "metadata": {
    "execution": {
     "iopub.execute_input": "2024-09-04T13:35:40.558960Z",
     "iopub.status.busy": "2024-09-04T13:35:40.558695Z",
     "iopub.status.idle": "2024-09-04T13:35:40.582224Z",
     "shell.execute_reply": "2024-09-04T13:35:40.581398Z"
    },
    "papermill": {
     "duration": 0.037202,
     "end_time": "2024-09-04T13:35:40.584125",
     "exception": false,
     "start_time": "2024-09-04T13:35:40.546923",
     "status": "completed"
    },
    "tags": []
   },
   "outputs": [
    {
     "data": {
      "text/plain": [
       "little ol screenshot from gaben's account of me redd.it/hu2ks9"
      ]
     },
     "execution_count": 10,
     "metadata": {},
     "output_type": "execute_result"
    }
   ],
   "source": [
    "txt=nlp(doc)\n",
    "txt"
   ]
  },
  {
   "cell_type": "code",
   "execution_count": 11,
   "id": "f991b658",
   "metadata": {
    "execution": {
     "iopub.execute_input": "2024-09-04T13:35:40.607230Z",
     "iopub.status.busy": "2024-09-04T13:35:40.606566Z",
     "iopub.status.idle": "2024-09-04T13:35:40.610964Z",
     "shell.execute_reply": "2024-09-04T13:35:40.610089Z"
    },
    "papermill": {
     "duration": 0.018212,
     "end_time": "2024-09-04T13:35:40.613101",
     "exception": false,
     "start_time": "2024-09-04T13:35:40.594889",
     "status": "completed"
    },
    "tags": []
   },
   "outputs": [
    {
     "name": "stdout",
     "output_type": "stream",
     "text": [
      "little\n",
      "ol\n",
      "screenshot\n",
      "from\n",
      "gaben\n",
      "'s\n",
      "account\n",
      "of\n",
      "me\n",
      "redd.it/hu2ks9\n"
     ]
    }
   ],
   "source": [
    "for token in txt:\n",
    "    print(token)"
   ]
  },
  {
   "cell_type": "markdown",
   "id": "4ef250b0",
   "metadata": {
    "papermill": {
     "duration": 0.010532,
     "end_time": "2024-09-04T13:35:40.634522",
     "exception": false,
     "start_time": "2024-09-04T13:35:40.623990",
     "status": "completed"
    },
    "tags": []
   },
   "source": [
    "## Stemming & lemmatization"
   ]
  },
  {
   "cell_type": "code",
   "execution_count": 12,
   "id": "02b0ba89",
   "metadata": {
    "execution": {
     "iopub.execute_input": "2024-09-04T13:35:40.657033Z",
     "iopub.status.busy": "2024-09-04T13:35:40.656762Z",
     "iopub.status.idle": "2024-09-04T13:35:40.661053Z",
     "shell.execute_reply": "2024-09-04T13:35:40.660279Z"
    },
    "papermill": {
     "duration": 0.018182,
     "end_time": "2024-09-04T13:35:40.663396",
     "exception": false,
     "start_time": "2024-09-04T13:35:40.645214",
     "status": "completed"
    },
    "tags": []
   },
   "outputs": [
    {
     "name": "stdout",
     "output_type": "stream",
     "text": [
      "Word: little  -> little\n",
      "Word: ol  -> ol\n",
      "Word: screenshot  -> screenshot\n",
      "Word: from  -> from\n",
      "Word: gaben  -> gaben\n",
      "Word: 's  -> 's\n",
      "Word: account  -> account\n",
      "Word: of  -> of\n",
      "Word: me  -> I\n",
      "Word: redd.it/hu2ks9  -> redd.it/hu2ks9\n"
     ]
    }
   ],
   "source": [
    "for token in txt:\n",
    "    print(f\"Word: {token}  -> {token.lemma_}\")"
   ]
  },
  {
   "cell_type": "code",
   "execution_count": 13,
   "id": "0478fcd6",
   "metadata": {
    "execution": {
     "iopub.execute_input": "2024-09-04T13:35:40.686425Z",
     "iopub.status.busy": "2024-09-04T13:35:40.686142Z",
     "iopub.status.idle": "2024-09-04T13:35:40.690790Z",
     "shell.execute_reply": "2024-09-04T13:35:40.689913Z"
    },
    "papermill": {
     "duration": 0.018915,
     "end_time": "2024-09-04T13:35:40.693123",
     "exception": false,
     "start_time": "2024-09-04T13:35:40.674208",
     "status": "completed"
    },
    "tags": []
   },
   "outputs": [
    {
     "name": "stdout",
     "output_type": "stream",
     "text": [
      "from\n",
      "'s\n",
      "of\n",
      "me\n"
     ]
    }
   ],
   "source": [
    "for token in txt:\n",
    "    if token.is_stop:\n",
    "        print(token)"
   ]
  },
  {
   "cell_type": "code",
   "execution_count": 14,
   "id": "8516f36d",
   "metadata": {
    "execution": {
     "iopub.execute_input": "2024-09-04T13:35:40.716754Z",
     "iopub.status.busy": "2024-09-04T13:35:40.716447Z",
     "iopub.status.idle": "2024-09-04T13:35:40.731222Z",
     "shell.execute_reply": "2024-09-04T13:35:40.730146Z"
    },
    "papermill": {
     "duration": 0.028568,
     "end_time": "2024-09-04T13:35:40.733168",
     "exception": false,
     "start_time": "2024-09-04T13:35:40.704600",
     "status": "completed"
    },
    "tags": []
   },
   "outputs": [
    {
     "name": "stdout",
     "output_type": "stream",
     "text": [
      "little ol screenshot from gaben's account of me redd.it/hu2ks9\n",
      "\n",
      " little ol screenshot gaben account redd.it/hu2ks9\n"
     ]
    }
   ],
   "source": [
    "def processing(txt):\n",
    "    preprocess_txt=[]\n",
    "    doc=nlp(txt)\n",
    "    for token in doc:\n",
    "        if token.is_stop or token.is_punct:\n",
    "            continue\n",
    "        preprocess_txt.append(token.lemma_)    \n",
    "    return \" \".join(preprocess_txt)    \n",
    "\n",
    "print(doc)\n",
    "process_doc=processing(doc)\n",
    "print(\"\\n\",process_doc)"
   ]
  },
  {
   "cell_type": "code",
   "execution_count": 15,
   "id": "46a5fcd0",
   "metadata": {
    "execution": {
     "iopub.execute_input": "2024-09-04T13:35:40.757437Z",
     "iopub.status.busy": "2024-09-04T13:35:40.757157Z",
     "iopub.status.idle": "2024-09-04T13:36:58.908560Z",
     "shell.execute_reply": "2024-09-04T13:36:58.907734Z"
    },
    "papermill": {
     "duration": 78.16591,
     "end_time": "2024-09-04T13:36:58.910842",
     "exception": false,
     "start_time": "2024-09-04T13:35:40.744932",
     "status": "completed"
    },
    "tags": []
   },
   "outputs": [],
   "source": [
    "df['preprocess_comment']=df['Comment'].apply(processing)"
   ]
  },
  {
   "cell_type": "code",
   "execution_count": 16,
   "id": "bdbedf28",
   "metadata": {
    "execution": {
     "iopub.execute_input": "2024-09-04T13:36:58.935506Z",
     "iopub.status.busy": "2024-09-04T13:36:58.934901Z",
     "iopub.status.idle": "2024-09-04T13:36:58.948804Z",
     "shell.execute_reply": "2024-09-04T13:36:58.947898Z"
    },
    "papermill": {
     "duration": 0.028603,
     "end_time": "2024-09-04T13:36:58.951250",
     "exception": false,
     "start_time": "2024-09-04T13:36:58.922647",
     "status": "completed"
    },
    "tags": []
   },
   "outputs": [
    {
     "data": {
      "text/html": [
       "<div>\n",
       "<style scoped>\n",
       "    .dataframe tbody tr th:only-of-type {\n",
       "        vertical-align: middle;\n",
       "    }\n",
       "\n",
       "    .dataframe tbody tr th {\n",
       "        vertical-align: top;\n",
       "    }\n",
       "\n",
       "    .dataframe thead th {\n",
       "        text-align: right;\n",
       "    }\n",
       "</style>\n",
       "<table border=\"1\" class=\"dataframe\">\n",
       "  <thead>\n",
       "    <tr style=\"text-align: right;\">\n",
       "      <th></th>\n",
       "      <th>Comment</th>\n",
       "      <th>Emotion</th>\n",
       "      <th>preprocess_comment</th>\n",
       "      <th>num_emotion</th>\n",
       "    </tr>\n",
       "  </thead>\n",
       "  <tbody>\n",
       "    <tr>\n",
       "      <th>0</th>\n",
       "      <td>I Come stop by sometime and say hi for my mont...</td>\n",
       "      <td>Irrelevant</td>\n",
       "      <td>come stop hi monthly 1st edition LIVE stream t...</td>\n",
       "      <td>3</td>\n",
       "    </tr>\n",
       "    <tr>\n",
       "      <th>1</th>\n",
       "      <td>Remember when he shoved a remote in the ass, h...</td>\n",
       "      <td>Irrelevant</td>\n",
       "      <td>remember shove remote ass angry World Warcraft...</td>\n",
       "      <td>3</td>\n",
       "    </tr>\n",
       "    <tr>\n",
       "      <th>2</th>\n",
       "      <td>Can't wait to see @ ellenlikesbikes!!!!.... ah...</td>\n",
       "      <td>Irrelevant</td>\n",
       "      <td>wait ellenlikesbike ahem JeremyPowers like</td>\n",
       "      <td>3</td>\n",
       "    </tr>\n",
       "    <tr>\n",
       "      <th>3</th>\n",
       "      <td>@Borderlands Loving, Love, Love, More and More...</td>\n",
       "      <td>Positive</td>\n",
       "      <td>@Borderlands Loving Love Love Love odd float t...</td>\n",
       "      <td>1</td>\n",
       "    </tr>\n",
       "    <tr>\n",
       "      <th>4</th>\n",
       "      <td>Crying.  the fact overwatch is nominated means...</td>\n",
       "      <td>Irrelevant</td>\n",
       "      <td>cry   fact overwatch nominate mean SHIT queer ...</td>\n",
       "      <td>3</td>\n",
       "    </tr>\n",
       "  </tbody>\n",
       "</table>\n",
       "</div>"
      ],
      "text/plain": [
       "                                             Comment     Emotion  \\\n",
       "0  I Come stop by sometime and say hi for my mont...  Irrelevant   \n",
       "1  Remember when he shoved a remote in the ass, h...  Irrelevant   \n",
       "2  Can't wait to see @ ellenlikesbikes!!!!.... ah...  Irrelevant   \n",
       "3  @Borderlands Loving, Love, Love, More and More...    Positive   \n",
       "4  Crying.  the fact overwatch is nominated means...  Irrelevant   \n",
       "\n",
       "                                  preprocess_comment  num_emotion  \n",
       "0  come stop hi monthly 1st edition LIVE stream t...            3  \n",
       "1  remember shove remote ass angry World Warcraft...            3  \n",
       "2         wait ellenlikesbike ahem JeremyPowers like            3  \n",
       "3  @Borderlands Loving Love Love Love odd float t...            1  \n",
       "4  cry   fact overwatch nominate mean SHIT queer ...            3  "
      ]
     },
     "execution_count": 16,
     "metadata": {},
     "output_type": "execute_result"
    }
   ],
   "source": [
    "df['num_emotion']=df['Emotion'].map({'Negative':0,'Positive':1,'Neutral':2, 'Irrelevant' : 3})\n",
    "df.head()"
   ]
  },
  {
   "cell_type": "code",
   "execution_count": 17,
   "id": "ec89dd96",
   "metadata": {
    "execution": {
     "iopub.execute_input": "2024-09-04T13:36:58.976520Z",
     "iopub.status.busy": "2024-09-04T13:36:58.976245Z",
     "iopub.status.idle": "2024-09-04T13:36:59.142780Z",
     "shell.execute_reply": "2024-09-04T13:36:59.141975Z"
    },
    "papermill": {
     "duration": 0.180757,
     "end_time": "2024-09-04T13:36:59.144843",
     "exception": false,
     "start_time": "2024-09-04T13:36:58.964086",
     "status": "completed"
    },
    "tags": []
   },
   "outputs": [],
   "source": [
    "from sklearn.model_selection import train_test_split\n",
    "\n",
    "x_train,x_test,y_train,y_test=train_test_split(df['preprocess_comment'],df['num_emotion'],test_size=0.2\n",
    "                                              ,random_state=42,stratify=df['num_emotion'])"
   ]
  },
  {
   "cell_type": "code",
   "execution_count": 18,
   "id": "b4c9ed3e",
   "metadata": {
    "execution": {
     "iopub.execute_input": "2024-09-04T13:36:59.168814Z",
     "iopub.status.busy": "2024-09-04T13:36:59.168490Z",
     "iopub.status.idle": "2024-09-04T13:36:59.363068Z",
     "shell.execute_reply": "2024-09-04T13:36:59.362311Z"
    },
    "papermill": {
     "duration": 0.208869,
     "end_time": "2024-09-04T13:36:59.365204",
     "exception": false,
     "start_time": "2024-09-04T13:36:59.156335",
     "status": "completed"
    },
    "tags": []
   },
   "outputs": [],
   "source": [
    "from sklearn.feature_extraction.text import TfidfVectorizer\n",
    "\n",
    "TF=TfidfVectorizer()\n",
    "x_train_tf=TF.fit_transform(x_train)\n",
    "x_test_tf=TF.transform(x_test)"
   ]
  },
  {
   "cell_type": "markdown",
   "id": "cd4b01b2",
   "metadata": {
    "papermill": {
     "duration": 0.010992,
     "end_time": "2024-09-04T13:36:59.387903",
     "exception": false,
     "start_time": "2024-09-04T13:36:59.376911",
     "status": "completed"
    },
    "tags": []
   },
   "source": [
    "# Random Forest"
   ]
  },
  {
   "cell_type": "code",
   "execution_count": 19,
   "id": "ffdbbc90",
   "metadata": {
    "execution": {
     "iopub.execute_input": "2024-09-04T13:36:59.411786Z",
     "iopub.status.busy": "2024-09-04T13:36:59.411445Z",
     "iopub.status.idle": "2024-09-04T13:37:12.863013Z",
     "shell.execute_reply": "2024-09-04T13:37:12.861898Z"
    },
    "papermill": {
     "duration": 13.466758,
     "end_time": "2024-09-04T13:37:12.865941",
     "exception": false,
     "start_time": "2024-09-04T13:36:59.399183",
     "status": "completed"
    },
    "tags": []
   },
   "outputs": [],
   "source": [
    "from sklearn.ensemble import RandomForestClassifier\n",
    "\n",
    "rf=RandomForestClassifier()\n",
    "rf.fit(x_train_tf,y_train)\n",
    "\n",
    "ypred=rf.predict(x_test_tf)"
   ]
  },
  {
   "cell_type": "markdown",
   "id": "9a132d14",
   "metadata": {
    "papermill": {
     "duration": 0.011516,
     "end_time": "2024-09-04T13:37:12.893862",
     "exception": false,
     "start_time": "2024-09-04T13:37:12.882346",
     "status": "completed"
    },
    "tags": []
   },
   "source": [
    "## Evalution"
   ]
  },
  {
   "cell_type": "code",
   "execution_count": 20,
   "id": "9774d918",
   "metadata": {
    "execution": {
     "iopub.execute_input": "2024-09-04T13:37:12.918145Z",
     "iopub.status.busy": "2024-09-04T13:37:12.917812Z",
     "iopub.status.idle": "2024-09-04T13:37:12.925266Z",
     "shell.execute_reply": "2024-09-04T13:37:12.924027Z"
    },
    "papermill": {
     "duration": 0.022001,
     "end_time": "2024-09-04T13:37:12.927377",
     "exception": false,
     "start_time": "2024-09-04T13:37:12.905376",
     "status": "completed"
    },
    "tags": []
   },
   "outputs": [
    {
     "name": "stdout",
     "output_type": "stream",
     "text": [
      "0.6633064516129032\n"
     ]
    }
   ],
   "source": [
    "from sklearn.metrics import classification_report,accuracy_score,confusion_matrix,ConfusionMatrixDisplay\n",
    "\n",
    "print(accuracy_score(y_test,ypred))"
   ]
  },
  {
   "cell_type": "code",
   "execution_count": 21,
   "id": "7ac86c6a",
   "metadata": {
    "execution": {
     "iopub.execute_input": "2024-09-04T13:37:12.952208Z",
     "iopub.status.busy": "2024-09-04T13:37:12.951922Z",
     "iopub.status.idle": "2024-09-04T13:37:12.958953Z",
     "shell.execute_reply": "2024-09-04T13:37:12.957928Z"
    },
    "papermill": {
     "duration": 0.021328,
     "end_time": "2024-09-04T13:37:12.961227",
     "exception": false,
     "start_time": "2024-09-04T13:37:12.939899",
     "status": "completed"
    },
    "tags": []
   },
   "outputs": [
    {
     "name": "stdout",
     "output_type": "stream",
     "text": [
      "[[491  56  62  11]\n",
      " [ 93 370  70  10]\n",
      " [ 76  75 306  14]\n",
      " [ 74  71  56 149]]\n"
     ]
    }
   ],
   "source": [
    "print(confusion_matrix(y_test, ypred))"
   ]
  },
  {
   "cell_type": "code",
   "execution_count": 22,
   "id": "cc4b2fdd",
   "metadata": {
    "execution": {
     "iopub.execute_input": "2024-09-04T13:37:12.992493Z",
     "iopub.status.busy": "2024-09-04T13:37:12.992200Z",
     "iopub.status.idle": "2024-09-04T13:37:13.296123Z",
     "shell.execute_reply": "2024-09-04T13:37:13.295183Z"
    },
    "papermill": {
     "duration": 0.321631,
     "end_time": "2024-09-04T13:37:13.299133",
     "exception": false,
     "start_time": "2024-09-04T13:37:12.977502",
     "status": "completed"
    },
    "tags": []
   },
   "outputs": [
    {
     "data": {
      "image/png": "[encoded data removed]",
      "text/plain": [
       "<Figure size 640x480 with 2 Axes>"
      ]
     },
     "metadata": {},
     "output_type": "display_data"
    }
   ],
   "source": [
    "label_names = {'Negative': 0, 'Positive': 1, 'Neutral': 2, 'Irrelevant': 3}\n",
    "\n",
    "cm_display = ConfusionMatrixDisplay.from_predictions(y_test, ypred, display_labels=label_names.keys())\n",
    "\n",
    "#cm_display.plot(cmap='Blues', xticks_rotation=45)\n",
    "plt.title('Confusion Matrix')\n",
    "plt.show()"
   ]
  },
  {
   "cell_type": "code",
   "execution_count": 23,
   "id": "a0952a22",
   "metadata": {
    "execution": {
     "iopub.execute_input": "2024-09-04T13:37:13.328461Z",
     "iopub.status.busy": "2024-09-04T13:37:13.328140Z",
     "iopub.status.idle": "2024-09-04T13:37:13.343732Z",
     "shell.execute_reply": "2024-09-04T13:37:13.342679Z"
    },
    "papermill": {
     "duration": 0.030548,
     "end_time": "2024-09-04T13:37:13.345964",
     "exception": false,
     "start_time": "2024-09-04T13:37:13.315416",
     "status": "completed"
    },
    "tags": []
   },
   "outputs": [
    {
     "name": "stdout",
     "output_type": "stream",
     "text": [
      "              precision    recall  f1-score   support\n",
      "\n",
      "    Negative       0.67      0.79      0.73       620\n",
      "    Positive       0.65      0.68      0.66       543\n",
      "     Neutral       0.62      0.65      0.63       471\n",
      "  Irrelevant       0.81      0.43      0.56       350\n",
      "\n",
      "    accuracy                           0.66      1984\n",
      "   macro avg       0.69      0.64      0.65      1984\n",
      "weighted avg       0.68      0.66      0.66      1984\n",
      "\n"
     ]
    }
   ],
   "source": [
    "from sklearn.metrics import classification_report\n",
    "\n",
    "label_names = {'Negative': 0, 'Positive': 1, 'Neutral': 2, 'Irrelevant': 3}\n",
    "\n",
    "report = classification_report(y_test, ypred, target_names=label_names.keys())\n",
    "\n",
    "print(report)"
   ]
  },
  {
   "cell_type": "code",
   "execution_count": 24,
   "id": "18a82cfc",
   "metadata": {
    "execution": {
     "iopub.execute_input": "2024-09-04T13:37:13.371834Z",
     "iopub.status.busy": "2024-09-04T13:37:13.371547Z",
     "iopub.status.idle": "2024-09-04T13:37:13.412400Z",
     "shell.execute_reply": "2024-09-04T13:37:13.411045Z"
    },
    "papermill": {
     "duration": 0.055904,
     "end_time": "2024-09-04T13:37:13.414727",
     "exception": false,
     "start_time": "2024-09-04T13:37:13.358823",
     "status": "completed"
    },
    "tags": []
   },
   "outputs": [
    {
     "name": "stdout",
     "output_type": "stream",
     "text": [
      "+--------------+--------------------+--------------------+--------------------+---------+\n",
      "|    Class     |     Precision      |       Recall       |      F1-score      | Support |\n",
      "+--------------+--------------------+--------------------+--------------------+---------+\n",
      "|   Negative   | 0.6689373297002725 | 0.7919354838709678 | 0.725258493353028  |   620   |\n",
      "|   Positive   | 0.6468531468531469 | 0.6813996316758748 | 0.6636771300448431 |   543   |\n",
      "|   Neutral    | 0.6194331983805668 | 0.6496815286624203 | 0.6341968911917097 |   471   |\n",
      "|  Irrelevant  | 0.8097826086956522 | 0.4257142857142857 | 0.5580524344569288 |   350   |\n",
      "|  macro avg   | 0.6862515709074096 | 0.6371827324808872 | 0.6452962372616274 |   1984  |\n",
      "| weighted avg | 0.6759875769335447 | 0.6633064516129032 | 0.6572893323107095 |   1984  |\n",
      "+--------------+--------------------+--------------------+--------------------+---------+\n"
     ]
    }
   ],
   "source": [
    "from sklearn.metrics import classification_report\n",
    "from prettytable import PrettyTable\n",
    "\n",
    "label_names = {'Negative': 0, 'Positive': 1, 'Neutral': 2, 'Irrelevant': 3}\n",
    "\n",
    "report = classification_report(y_test, ypred, target_names=label_names.keys(), output_dict=True)\n",
    "\n",
    "table = PrettyTable()\n",
    "\n",
    "# Set the header of the table\n",
    "table.field_names = [\"Class\", \"Precision\", \"Recall\", \"F1-score\", \"Support\"]\n",
    "\n",
    "for class_name, metrics in report.items():\n",
    "    if isinstance(metrics, dict):  \n",
    "        row = [class_name, metrics['precision'], metrics['recall'], metrics['f1-score'], metrics['support']]\n",
    "        table.add_row(row)\n",
    "\n",
    "print(table.get_string(style=\"BLUE\"))"
   ]
  },
  {
   "cell_type": "markdown",
   "id": "5b934db4",
   "metadata": {
    "papermill": {
     "duration": 0.011789,
     "end_time": "2024-09-04T13:37:13.441886",
     "exception": false,
     "start_time": "2024-09-04T13:37:13.430097",
     "status": "completed"
    },
    "tags": []
   },
   "source": [
    "# SVM with GridSearchCv"
   ]
  },
  {
   "cell_type": "code",
   "execution_count": 25,
   "id": "dd74519d",
   "metadata": {
    "execution": {
     "iopub.execute_input": "2024-09-04T13:37:13.467055Z",
     "iopub.status.busy": "2024-09-04T13:37:13.466761Z",
     "iopub.status.idle": "2024-09-04T13:37:13.470923Z",
     "shell.execute_reply": "2024-09-04T13:37:13.470027Z"
    },
    "papermill": {
     "duration": 0.018989,
     "end_time": "2024-09-04T13:37:13.472836",
     "exception": false,
     "start_time": "2024-09-04T13:37:13.453847",
     "status": "completed"
    },
    "tags": []
   },
   "outputs": [],
   "source": [
    "X = df['preprocess_comment']\n",
    "y = df['Emotion']"
   ]
  },
  {
   "cell_type": "code",
   "execution_count": 26,
   "id": "b87c9570",
   "metadata": {
    "execution": {
     "iopub.execute_input": "2024-09-04T13:37:13.498721Z",
     "iopub.status.busy": "2024-09-04T13:37:13.498085Z",
     "iopub.status.idle": "2024-09-04T13:37:14.042518Z",
     "shell.execute_reply": "2024-09-04T13:37:14.041573Z"
    },
    "papermill": {
     "duration": 0.559697,
     "end_time": "2024-09-04T13:37:14.044547",
     "exception": false,
     "start_time": "2024-09-04T13:37:13.484850",
     "status": "completed"
    },
    "tags": []
   },
   "outputs": [
    {
     "data": {
      "text/plain": [
       "array([[0., 0., 0., ..., 0., 0., 0.],\n",
       "       [0., 0., 0., ..., 0., 0., 0.],\n",
       "       [0., 0., 0., ..., 0., 0., 0.],\n",
       "       ...,\n",
       "       [0., 0., 0., ..., 0., 0., 0.],\n",
       "       [0., 0., 0., ..., 0., 0., 0.],\n",
       "       [0., 0., 0., ..., 0., 0., 0.]])"
      ]
     },
     "execution_count": 26,
     "metadata": {},
     "output_type": "execute_result"
    }
   ],
   "source": [
    "from sklearn.feature_extraction.text import TfidfVectorizer\n",
    "vectorizer = TfidfVectorizer()\n",
    "X = vectorizer.fit_transform(X)\n",
    "X.toarray()"
   ]
  },
  {
   "cell_type": "code",
   "execution_count": 27,
   "id": "c1ccb690",
   "metadata": {
    "execution": {
     "iopub.execute_input": "2024-09-04T13:37:14.071074Z",
     "iopub.status.busy": "2024-09-04T13:37:14.070770Z",
     "iopub.status.idle": "2024-09-04T13:37:14.079954Z",
     "shell.execute_reply": "2024-09-04T13:37:14.078989Z"
    },
    "papermill": {
     "duration": 0.024282,
     "end_time": "2024-09-04T13:37:14.081841",
     "exception": false,
     "start_time": "2024-09-04T13:37:14.057559",
     "status": "completed"
    },
    "tags": []
   },
   "outputs": [
    {
     "data": {
      "text/plain": [
       "array([0, 0, 0, ..., 3, 3, 1])"
      ]
     },
     "execution_count": 27,
     "metadata": {},
     "output_type": "execute_result"
    }
   ],
   "source": [
    "from sklearn.preprocessing import LabelEncoder\n",
    "encoder = LabelEncoder()\n",
    "y = encoder.fit_transform(y)\n",
    "y"
   ]
  },
  {
   "cell_type": "code",
   "execution_count": 28,
   "id": "813253b7",
   "metadata": {
    "execution": {
     "iopub.execute_input": "2024-09-04T13:37:14.108092Z",
     "iopub.status.busy": "2024-09-04T13:37:14.107752Z",
     "iopub.status.idle": "2024-09-04T13:37:14.112619Z",
     "shell.execute_reply": "2024-09-04T13:37:14.111752Z"
    },
    "papermill": {
     "duration": 0.020243,
     "end_time": "2024-09-04T13:37:14.114542",
     "exception": false,
     "start_time": "2024-09-04T13:37:14.094299",
     "status": "completed"
    },
    "tags": []
   },
   "outputs": [],
   "source": [
    "from sklearn.svm import SVC\n",
    "\n",
    "param_grid = {'kernel': ['rbf'],\n",
    "              'C': [0.1, 1, 10, 15],\n",
    "            'random_state':[42]}\n",
    "\n",
    "svc = SVC()"
   ]
  },
  {
   "cell_type": "code",
   "execution_count": 29,
   "id": "9a2e5dd9",
   "metadata": {
    "execution": {
     "iopub.execute_input": "2024-09-04T13:37:14.141170Z",
     "iopub.status.busy": "2024-09-04T13:37:14.140795Z",
     "iopub.status.idle": "2024-09-04T13:46:16.294213Z",
     "shell.execute_reply": "2024-09-04T13:46:16.293272Z"
    },
    "papermill": {
     "duration": 542.181953,
     "end_time": "2024-09-04T13:46:16.309094",
     "exception": false,
     "start_time": "2024-09-04T13:37:14.127141",
     "status": "completed"
    },
    "tags": []
   },
   "outputs": [
    {
     "data": {
      "text/html": [
       "<style>#sk-container-id-1 {color: black;background-color: white;}#sk-container-id-1 pre{padding: 0;}#sk-container-id-1 div.sk-toggleable {background-color: white;}#sk-container-id-1 label.sk-toggleable__label {cursor: pointer;display: block;width: 100%;margin-bottom: 0;padding: 0.3em;box-sizing: border-box;text-align: center;}#sk-container-id-1 label.sk-toggleable__label-arrow:before {content: \"▸\";float: left;margin-right: 0.25em;color: #696969;}#sk-container-id-1 label.sk-toggleable__label-arrow:hover:before {color: black;}#sk-container-id-1 div.sk-estimator:hover label.sk-toggleable__label-arrow:before {color: black;}#sk-container-id-1 div.sk-toggleable__content {max-height: 0;max-width: 0;overflow: hidden;text-align: left;background-color: #f0f8ff;}#sk-container-id-1 div.sk-toggleable__content pre {margin: 0.2em;color: black;border-radius: 0.25em;background-color: #f0f8ff;}#sk-container-id-1 input.sk-toggleable__control:checked~div.sk-toggleable__content {max-height: 200px;max-width: 100%;overflow: auto;}#sk-container-id-1 input.sk-toggleable__control:checked~label.sk-toggleable__label-arrow:before {content: \"▾\";}#sk-container-id-1 div.sk-estimator input.sk-toggleable__control:checked~label.sk-toggleable__label {background-color: #d4ebff;}#sk-container-id-1 div.sk-label input.sk-toggleable__control:checked~label.sk-toggleable__label {background-color: #d4ebff;}#sk-container-id-1 input.sk-hidden--visually {border: 0;clip: rect(1px 1px 1px 1px);clip: rect(1px, 1px, 1px, 1px);height: 1px;margin: -1px;overflow: hidden;padding: 0;position: absolute;width: 1px;}#sk-container-id-1 div.sk-estimator {font-family: monospace;background-color: #f0f8ff;border: 1px dotted black;border-radius: 0.25em;box-sizing: border-box;margin-bottom: 0.5em;}#sk-container-id-1 div.sk-estimator:hover {background-color: #d4ebff;}#sk-container-id-1 div.sk-parallel-item::after {content: \"\";width: 100%;border-bottom: 1px solid gray;flex-grow: 1;}#sk-container-id-1 div.sk-label:hover label.sk-toggleable__label {background-color: #d4ebff;}#sk-container-id-1 div.sk-serial::before {content: \"\";position: absolute;border-left: 1px solid gray;box-sizing: border-box;top: 0;bottom: 0;left: 50%;z-index: 0;}#sk-container-id-1 div.sk-serial {display: flex;flex-direction: column;align-items: center;background-color: white;padding-right: 0.2em;padding-left: 0.2em;position: relative;}#sk-container-id-1 div.sk-item {position: relative;z-index: 1;}#sk-container-id-1 div.sk-parallel {display: flex;align-items: stretch;justify-content: center;background-color: white;position: relative;}#sk-container-id-1 div.sk-item::before, #sk-container-id-1 div.sk-parallel-item::before {content: \"\";position: absolute;border-left: 1px solid gray;box-sizing: border-box;top: 0;bottom: 0;left: 50%;z-index: -1;}#sk-container-id-1 div.sk-parallel-item {display: flex;flex-direction: column;z-index: 1;position: relative;background-color: white;}#sk-container-id-1 div.sk-parallel-item:first-child::after {align-self: flex-end;width: 50%;}#sk-container-id-1 div.sk-parallel-item:last-child::after {align-self: flex-start;width: 50%;}#sk-container-id-1 div.sk-parallel-item:only-child::after {width: 0;}#sk-container-id-1 div.sk-dashed-wrapped {border: 1px dashed gray;margin: 0 0.4em 0.5em 0.4em;box-sizing: border-box;padding-bottom: 0.4em;background-color: white;}#sk-container-id-1 div.sk-label label {font-family: monospace;font-weight: bold;display: inline-block;line-height: 1.2em;}#sk-container-id-1 div.sk-label-container {text-align: center;}#sk-container-id-1 div.sk-container {/* jupyter's `normalize.less` sets `[hidden] { display: none; }` but bootstrap.min.css set `[hidden] { display: none !important; }` so we also need the `!important` here to be able to override the default hidden behavior on the sphinx rendered scikit-learn.org. See: https://github.com/scikit-learn/scikit-learn/issues/21755 */display: inline-block !important;position: relative;}#sk-container-id-1 div.sk-text-repr-fallback {display: none;}</style><div id=\"sk-container-id-1\" class=\"sk-top-container\"><div class=\"sk-text-repr-fallback\"><pre>GridSearchCV(cv=10, estimator=SVC(),\n",
       "             param_grid={&#x27;C&#x27;: [0.1, 1, 10, 15], &#x27;kernel&#x27;: [&#x27;rbf&#x27;],\n",
       "                         &#x27;random_state&#x27;: [42]})</pre><b>In a Jupyter environment, please rerun this cell to show the HTML representation or trust the notebook. <br />On GitHub, the HTML representation is unable to render, please try loading this page with nbviewer.org.</b></div><div class=\"sk-container\" hidden><div class=\"sk-item sk-dashed-wrapped\"><div class=\"sk-label-container\"><div class=\"sk-label sk-toggleable\"><input class=\"sk-toggleable__control sk-hidden--visually\" id=\"sk-estimator-id-1\" type=\"checkbox\" ><label for=\"sk-estimator-id-1\" class=\"sk-toggleable__label sk-toggleable__label-arrow\">GridSearchCV</label><div class=\"sk-toggleable__content\"><pre>GridSearchCV(cv=10, estimator=SVC(),\n",
       "             param_grid={&#x27;C&#x27;: [0.1, 1, 10, 15], &#x27;kernel&#x27;: [&#x27;rbf&#x27;],\n",
       "                         &#x27;random_state&#x27;: [42]})</pre></div></div></div><div class=\"sk-parallel\"><div class=\"sk-parallel-item\"><div class=\"sk-item\"><div class=\"sk-label-container\"><div class=\"sk-label sk-toggleable\"><input class=\"sk-toggleable__control sk-hidden--visually\" id=\"sk-estimator-id-2\" type=\"checkbox\" ><label for=\"sk-estimator-id-2\" class=\"sk-toggleable__label sk-toggleable__label-arrow\">estimator: SVC</label><div class=\"sk-toggleable__content\"><pre>SVC()</pre></div></div></div><div class=\"sk-serial\"><div class=\"sk-item\"><div class=\"sk-estimator sk-toggleable\"><input class=\"sk-toggleable__control sk-hidden--visually\" id=\"sk-estimator-id-3\" type=\"checkbox\" ><label for=\"sk-estimator-id-3\" class=\"sk-toggleable__label sk-toggleable__label-arrow\">SVC</label><div class=\"sk-toggleable__content\"><pre>SVC()</pre></div></div></div></div></div></div></div></div></div></div>"
      ],
      "text/plain": [
       "GridSearchCV(cv=10, estimator=SVC(),\n",
       "             param_grid={'C': [0.1, 1, 10, 15], 'kernel': ['rbf'],\n",
       "                         'random_state': [42]})"
      ]
     },
     "execution_count": 29,
     "metadata": {},
     "output_type": "execute_result"
    }
   ],
   "source": [
    "from sklearn.model_selection import GridSearchCV\n",
    "\n",
    "grid_search = GridSearchCV(svc, param_grid, cv=10)\n",
    "grid_search.fit(X, y)"
   ]
  },
  {
   "cell_type": "code",
   "execution_count": 30,
   "id": "577f9019",
   "metadata": {
    "execution": {
     "iopub.execute_input": "2024-09-04T13:46:16.336138Z",
     "iopub.status.busy": "2024-09-04T13:46:16.335816Z",
     "iopub.status.idle": "2024-09-04T13:46:16.340736Z",
     "shell.execute_reply": "2024-09-04T13:46:16.339864Z"
    },
    "papermill": {
     "duration": 0.020779,
     "end_time": "2024-09-04T13:46:16.342742",
     "exception": false,
     "start_time": "2024-09-04T13:46:16.321963",
     "status": "completed"
    },
    "tags": []
   },
   "outputs": [
    {
     "name": "stdout",
     "output_type": "stream",
     "text": [
      "Best hyperparameters: {'C': 10, 'kernel': 'rbf', 'random_state': 42}\n",
      "Best model Accuracy Score is :0.706722905341623\n"
     ]
    }
   ],
   "source": [
    "best_params = grid_search.best_params_\n",
    "print(\"Best hyperparameters:\", best_params)\n",
    "print(f\"Best model Accuracy Score is :{grid_search.best_score_}\")"
   ]
  },
  {
   "cell_type": "code",
   "execution_count": 31,
   "id": "c68156c2",
   "metadata": {
    "execution": {
     "iopub.execute_input": "2024-09-04T13:46:16.370258Z",
     "iopub.status.busy": "2024-09-04T13:46:16.369967Z",
     "iopub.status.idle": "2024-09-04T13:46:25.657508Z",
     "shell.execute_reply": "2024-09-04T13:46:25.656573Z"
    },
    "papermill": {
     "duration": 9.303519,
     "end_time": "2024-09-04T13:46:25.659613",
     "exception": false,
     "start_time": "2024-09-04T13:46:16.356094",
     "status": "completed"
    },
    "tags": []
   },
   "outputs": [
    {
     "data": {
      "text/plain": [
       "array([0, 0, 0, ..., 3, 3, 1])"
      ]
     },
     "execution_count": 31,
     "metadata": {},
     "output_type": "execute_result"
    }
   ],
   "source": [
    "best_model = grid_search.best_estimator_\n",
    "y_pred = best_model.predict(X)\n",
    "y_pred"
   ]
  },
  {
   "cell_type": "code",
   "execution_count": 32,
   "id": "44c30ea2",
   "metadata": {
    "execution": {
     "iopub.execute_input": "2024-09-04T13:46:25.688161Z",
     "iopub.status.busy": "2024-09-04T13:46:25.687436Z",
     "iopub.status.idle": "2024-09-04T13:46:25.933399Z",
     "shell.execute_reply": "2024-09-04T13:46:25.932487Z"
    },
    "papermill": {
     "duration": 0.261909,
     "end_time": "2024-09-04T13:46:25.935456",
     "exception": false,
     "start_time": "2024-09-04T13:46:25.673547",
     "status": "completed"
    },
    "tags": []
   },
   "outputs": [
    {
     "data": {
      "image/png": "[encoded data removed]",
      "text/plain": [
       "<Figure size 640x480 with 2 Axes>"
      ]
     },
     "metadata": {},
     "output_type": "display_data"
    }
   ],
   "source": [
    "from sklearn.metrics import classification_report,accuracy_score,confusion_matrix,ConfusionMatrixDisplay\n",
    "\n",
    "label_names = {'Negative': 0, 'Positive': 1, 'Neutral': 2, 'Irrelevant': 3}\n",
    "\n",
    "cm_display = ConfusionMatrixDisplay.from_predictions(y, y_pred, display_labels=label_names.keys())\n",
    "\n",
    "plt.title('Confusion Matrix')\n",
    "plt.show()"
   ]
  }
 ],
 "metadata": {
  "kaggle": {
   "accelerator": "nvidiaTeslaT4",
   "dataSources": [
    {
     "datasetId": 5452641,
     "sourceId": 9044227,
     "sourceType": "datasetVersion"
    }
   ],
   "dockerImageVersionId": 30762,
   "isGpuEnabled": true,
   "isInternetEnabled": true,
   "language": "python",
   "sourceType": "notebook"
  },
  "kernelspec": {
   "display_name": "Python 3",
   "language": "python",
   "name": "python3"
  },
  "language_info": {
   "codemirror_mode": {
    "name": "ipython",
    "version": 3
   },
   "file_extension": ".py",
   "mimetype": "text/x-python",
   "name": "python",
   "nbconvert_exporter": "python",
   "pygments_lexer": "ipython3",
   "version": "3.10.14"
  },
  "papermill": {
   "default_parameters": {},
   "duration": 660.33517,
   "end_time": "2024-09-04T13:46:27.470993",
   "environment_variables": {},
   "exception": null,
   "input_path": "__notebook__.ipynb",
   "output_path": "__notebook__.ipynb",
   "parameters": {},
   "start_time": "2024-09-04T13:35:27.135823",
   "version": "2.6.0"
  }
 },
 "nbformat": 4,
 "nbformat_minor": 5
}
